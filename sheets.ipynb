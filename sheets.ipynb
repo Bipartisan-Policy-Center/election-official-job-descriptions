{
 "cells": [
  {
   "cell_type": "code",
   "execution_count": 27,
   "metadata": {},
   "outputs": [
    {
     "name": "stdout",
     "output_type": "stream",
     "text": [
      "None\n"
     ]
    }
   ],
   "source": [
    "import gspread\n",
    "import pandas as pd\n",
    "\n",
    "gc = gspread.service_account(filename='/Users/will/Repos/election-jobs/gspread_credentials.json')\n",
    "sht1 = gc.open_by_key('1t-oMIQVFW1uPRjjQ0Ffnf7w65C-uF1HKFQNp0hFgyzg')\n",
    "\n",
    "print(sht1.get_worksheet(0).acell('A1').value)\n",
    "\n",
    "df = pd.read_csv('dataset.csv')\n",
    "worksheet = sht1.get_worksheet(0)"
   ]
  },
  {
   "cell_type": "code",
   "execution_count": 41,
   "metadata": {},
   "outputs": [
    {
     "data": {
      "text/plain": [
       "{'spreadsheetId': '1t-oMIQVFW1uPRjjQ0Ffnf7w65C-uF1HKFQNp0hFgyzg',\n",
       " 'replies': [{}]}"
      ]
     },
     "execution_count": 41,
     "metadata": {},
     "output_type": "execute_result"
    }
   ],
   "source": [
    "\n",
    "# set column widths\n",
    "widths = [50,   # year\n",
    "        50,   # date\n",
    "        150,  # description\n",
    "        50,   # link\n",
    "        150,  # job_title\n",
    "        150,  # employer\n",
    "        150,  # state_full_name\n",
    "        120,  # salary_low_end\n",
    "        120,  # salary_high_end\n",
    "        120,  # salary_mean\n",
    "        100,  # pay_basis\n",
    "        200]  # classification\n",
    "\n",
    "width_requests = [{\n",
    "                \"updateDimensionProperties\": {\n",
    "                    \"range\": {\n",
    "                        \"sheetId\": 0,\n",
    "                        \"dimension\": \"COLUMNS\",\n",
    "                        \"startIndex\": i,\n",
    "                        \"endIndex\": i+1\n",
    "                    },\n",
    "                    \"properties\": {\n",
    "                        \"pixelSize\": width\n",
    "                    },\n",
    "                    \"fields\": \"pixelSize\"\n",
    "                }\n",
    "            } for i, width in enumerate(widths)]\n",
    "\n",
    "body = {\n",
    "    \"requests\": width_requests\n",
    "}\n",
    "\n",
    "sht1.batch_update(body)\n",
    "\n",
    "# format the sheet\n",
    "worksheet.format('1:1', {'textFormat': {'bold': True}}) # bold header row\n",
    "worksheet.format('H:J', {'numberFormat': {'type': \"NUMBER\", 'pattern': \"$#,##0.00\"}}) # format salary columns as currency\n"
   ]
  }
 ],
 "metadata": {
  "kernelspec": {
   "display_name": "env",
   "language": "python",
   "name": "python3"
  },
  "language_info": {
   "codemirror_mode": {
    "name": "ipython",
    "version": 3
   },
   "file_extension": ".py",
   "mimetype": "text/x-python",
   "name": "python",
   "nbconvert_exporter": "python",
   "pygments_lexer": "ipython3",
   "version": "3.11.7"
  }
 },
 "nbformat": 4,
 "nbformat_minor": 2
}
