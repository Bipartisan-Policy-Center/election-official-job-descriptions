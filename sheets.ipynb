{
 "cells": [
  {
   "cell_type": "code",
   "execution_count": 58,
   "metadata": {},
   "outputs": [
    {
     "name": "stdout",
     "output_type": "stream",
     "text": [
      "x\n"
     ]
    }
   ],
   "source": [
    "import gspread\n",
    "import pandas as pd\n",
    "\n",
    "gc = gspread.service_account(filename='/Users/will/Repos/election-jobs/gspread_credentials.json')\n",
    "sht1 = gc.open_by_key('1t-oMIQVFW1uPRjjQ0Ffnf7w65C-uF1HKFQNp0hFgyzg')\n",
    "\n",
    "print(sht1.get_worksheet(0).acell('A1').value)\n",
    "\n",
    "# df = pd.read_pickle('jobs.pickle')\n",
    "worksheet = sht1.get_worksheet(0)"
   ]
  },
  {
   "cell_type": "code",
   "execution_count": 69,
   "metadata": {},
   "outputs": [
    {
     "data": {
      "text/plain": [
       "{'spreadsheetId': '1t-oMIQVFW1uPRjjQ0Ffnf7w65C-uF1HKFQNp0hFgyzg',\n",
       " 'replies': [{}]}"
      ]
     },
     "execution_count": 69,
     "metadata": {},
     "output_type": "execute_result"
    }
   ],
   "source": [
    "worksheet.format('1:1', {'textFormat': {'bold': True}})"
   ]
  },
  {
   "cell_type": "code",
   "execution_count": 70,
   "metadata": {},
   "outputs": [
    {
     "data": {
      "text/plain": [
       "1111"
      ]
     },
     "execution_count": 70,
     "metadata": {},
     "output_type": "execute_result"
    }
   ],
   "source": [
    "values_list = worksheet.col_values(1)\n",
    "len(values_list)"
   ]
  },
  {
   "cell_type": "code",
   "execution_count": 86,
   "metadata": {},
   "outputs": [
    {
     "name": "stderr",
     "output_type": "stream",
     "text": [
      "/var/folders/2f/3k2b0y_s79n84y37bcnb5t5h0000gn/T/ipykernel_39635/248415636.py:3: DeprecationWarning: The order of arguments in worksheet.update() has changed. Please pass values first and range_name secondor used named arguments (range_name=, values=)\n",
      "  worksheet.update('A1111', [['Bingo!!!']])\n"
     ]
    },
    {
     "data": {
      "text/plain": [
       "{'spreadsheetId': '1t-oMIQVFW1uPRjjQ0Ffnf7w65C-uF1HKFQNp0hFgyzg',\n",
       " 'tableRange': 'Sheet1!A1:U1113',\n",
       " 'updates': {'spreadsheetId': '1t-oMIQVFW1uPRjjQ0Ffnf7w65C-uF1HKFQNp0hFgyzg',\n",
       "  'updatedRange': 'Sheet1!A1114:C1115',\n",
       "  'updatedRows': 2,\n",
       "  'updatedColumns': 3,\n",
       "  'updatedCells': 5}}"
      ]
     },
     "execution_count": 86,
     "metadata": {},
     "output_type": "execute_result"
    }
   ],
   "source": [
    "# worksheet.update('A1:B2', [[1, 2], [3, 'x']])\n",
    "# worksheet.update_cell(1, 2, 'Bingo!')\n",
    "worksheet.update('A1111', [['Bingo!!!']])\n",
    "worksheet.append_rows([['Bingo!!!', 'HI'], [1, 2, 3]])\n"
   ]
  },
  {
   "cell_type": "code",
   "execution_count": 63,
   "metadata": {},
   "outputs": [
    {
     "data": {
      "text/plain": [
       "1111"
      ]
     },
     "execution_count": 63,
     "metadata": {},
     "output_type": "execute_result"
    }
   ],
   "source": []
  },
  {
   "cell_type": "code",
   "execution_count": 54,
   "metadata": {},
   "outputs": [
    {
     "data": {
      "text/plain": [
       "{'spreadsheetId': '1t-oMIQVFW1uPRjjQ0Ffnf7w65C-uF1HKFQNp0hFgyzg',\n",
       " 'updatedRange': 'Sheet1!A1:U1111',\n",
       " 'updatedRows': 1111,\n",
       " 'updatedColumns': 21,\n",
       " 'updatedCells': 23331}"
      ]
     },
     "execution_count": 54,
     "metadata": {},
     "output_type": "execute_result"
    }
   ],
   "source": [
    "worksheet = sht1.get_worksheet(0)\n",
    "worksheet.update([df.fillna(\"\").columns.values.tolist()] + df.fillna(\"\").values.tolist())\n"
   ]
  },
  {
   "cell_type": "markdown",
   "metadata": {},
   "source": []
  },
  {
   "cell_type": "code",
   "execution_count": 56,
   "metadata": {},
   "outputs": [
    {
     "data": {
      "text/plain": [
       "{'spreadsheetId': '1t-oMIQVFW1uPRjjQ0Ffnf7w65C-uF1HKFQNp0hFgyzg',\n",
       " 'updatedRange': 'Sheet1!A1:C3',\n",
       " 'updatedRows': 3,\n",
       " 'updatedColumns': 3,\n",
       " 'updatedCells': 9}"
      ]
     },
     "execution_count": 56,
     "metadata": {},
     "output_type": "execute_result"
    }
   ],
   "source": [
    "worksheet.update([[4, 2, 3], [4, 5, 6], [7, 8, 9]])"
   ]
  },
  {
   "cell_type": "code",
   "execution_count": 55,
   "metadata": {},
   "outputs": [],
   "source": [
    "df.to_csv('jobs.csv')"
   ]
  },
  {
   "cell_type": "code",
   "execution_count": 50,
   "metadata": {},
   "outputs": [
    {
     "data": {
      "text/plain": [
       "['Director of Purchasing',\n",
       " 'Chicago Board of Elections',\n",
       " '$100,000 – $105,000',\n",
       " 'Director of Purchasing, Chicago Board of Elections— The Director of Purchasing is an administrative position at the Board responsible for managing all duties related to preparation and processing of procurement contracts for the Board. Responsibilities: Implement purchasing policies and recommend procedures for staff; Work with user departments and warehouse to coordinate planning and purchasing strategies, including assisting Divisions with contract management and renewal; Schedule all purchasing activities to ensure timely procurement and delivery of sufficient supplies for effective administration of the Board; Coordinate the preparation of RFQs, RFPs, IFBs and other procurement methods to solicit competitive proposals and bids from qualified vendors; Prepare legal notices for publication as required for purchasing in coordination with the Board’s Director of Public Information, Legal Department and Administration; Analyze and evaluate bid specifications, tests reports and other relevant data; Oversee the evaluation of proposals and bids to determine the most responsive, responsible and qualified bidder; Participate in negotiating contract terms, cost and conditions; Promote and monitor MBE/WBE participation; Prepare purchasing and financial reports as requested by the Executive Director and the Board, including bid award recommendations and providing such reports to the Commissioners during their public Board meetings; Prepare annual and quarterly reports on procurement; Coordinate reports and vouchers for the Board and related agencies; Supervise employees in the Purchasing Department; and Other duties as assigned by the Executive Director. Salary: $100,000 – $105,000. Application: For the complete job listing and to apply, click here.',\n",
       " 'https://app.chicagoelections.com/Documents/general/Director%20of%20Purchasing.pdf',\n",
       " '10-19',\n",
       " 2023,\n",
       " 'yearly',\n",
       " '100000-105000',\n",
       " 100000.0,\n",
       " 105000.0,\n",
       " 'Director of Purchasing',\n",
       " 'Chicago Board of Elections',\n",
       " nan,\n",
       " 100000.0,\n",
       " 105000.0,\n",
       " 'yearly',\n",
       " 102500.0,\n",
       " False,\n",
       " False,\n",
       " False]"
      ]
     },
     "execution_count": 50,
     "metadata": {},
     "output_type": "execute_result"
    }
   ],
   "source": [
    "df.loc[3].values.tolist()"
   ]
  },
  {
   "cell_type": "code",
   "execution_count": 7,
   "metadata": {},
   "outputs": [
    {
     "name": "stdout",
     "output_type": "stream",
     "text": [
      "Please visit this URL to authorize this application: https://accounts.google.com/o/oauth2/auth?response_type=code&client_id=960628094705-l94ghf1vau241cggdeiajna9lq1mce06.apps.googleusercontent.com&redirect_uri=http%3A%2F%2Flocalhost%3A54927%2F&scope=https%3A%2F%2Fwww.googleapis.com%2Fauth%2Fdrive.file&state=fCqzBgFm7m86LTAXP0kChOTDb0eipI&access_type=offline\n",
      "<HttpError 404 when requesting https://sheets.googleapis.com/v4/spreadsheets/1BxiMVs0XRA5nFMdKvBdBZjgmUUqptlbs74OgvE2upms/values/Class%20Data%21A2%3AE?alt=json returned \"Requested entity was not found.\". Details: \"Requested entity was not found.\">\n"
     ]
    }
   ],
   "source": [
    "import os.path\n",
    "\n",
    "from google.auth.transport.requests import Request\n",
    "from google.oauth2.credentials import Credentials\n",
    "from google_auth_oauthlib.flow import InstalledAppFlow\n",
    "from googleapiclient.discovery import build\n",
    "from googleapiclient.errors import HttpError\n",
    "\n"
   ]
  },
  {
   "cell_type": "code",
   "execution_count": 12,
   "metadata": {},
   "outputs": [
    {
     "name": "stdout",
     "output_type": "stream",
     "text": [
      "None cells updated.\n"
     ]
    }
   ],
   "source": [
    "import google.auth\n",
    "from googleapiclient.discovery import build\n",
    "from googleapiclient.errors import HttpError\n",
    "\n",
    "\n",
    "def update_values(spreadsheet_id, range_name, value_input_option, _values):\n",
    "  \"\"\"\n",
    "  Creates the batch_update the user has access to.\n",
    "  Load pre-authorized user credentials from the environment.\n",
    "  TODO(developer) - See https://developers.google.com/identity\n",
    "  for guides on implementing OAuth2 for the application.\n",
    "  \"\"\"\n",
    "  creds = Credentials.from_authorized_user_file(\"token.json\", SCOPES)\n",
    "  # pylint: disable=maybe-no-member\n",
    "  try:\n",
    "    service = build(\"sheets\", \"v4\", credentials=creds)\n",
    "    values = [\n",
    "        [\n",
    "            # Cell values ...\n",
    "        ],\n",
    "        # Additional rows ...\n",
    "    ]\n",
    "    body = {\"values\": values}\n",
    "    result = (\n",
    "        service.spreadsheets()\n",
    "        .values()\n",
    "        .update(\n",
    "            spreadsheetId=spreadsheet_id,\n",
    "            range=range_name,\n",
    "            valueInputOption=value_input_option,\n",
    "            body=body,\n",
    "        )\n",
    "        .execute()\n",
    "    )\n",
    "    print(f\"{result.get('updatedCells')} cells updated.\")\n",
    "    return result\n",
    "  except HttpError as error:\n",
    "    print(f\"An error occurred: {error}\")\n",
    "    return error\n",
    "\n",
    "\n",
    "if __name__ == \"__main__\":\n",
    "  # Pass: spreadsheet_id,  range_name, value_input_option and  _values\n",
    "  update_values(\n",
    "      \"17iY9se5JE4MQlCjVR1CGucOQsRZRjBlWEOnSDYSk1hw\",\n",
    "      \"A1:C2\",\n",
    "      \"USER_ENTERED\",\n",
    "      [[\"A\", \"B\"], [\"C\", \"D\"]],\n",
    "  )\n",
    "\n"
   ]
  },
  {
   "cell_type": "code",
   "execution_count": 11,
   "metadata": {},
   "outputs": [
    {
     "name": "stdout",
     "output_type": "stream",
     "text": [
      "1 rows retrieved\n"
     ]
    },
    {
     "data": {
      "text/plain": [
       "{'range': 'Sheet1!A1:C2',\n",
       " 'majorDimension': 'ROWS',\n",
       " 'values': [['hello world']]}"
      ]
     },
     "execution_count": 11,
     "metadata": {},
     "output_type": "execute_result"
    }
   ],
   "source": [
    "import google.auth\n",
    "from googleapiclient.discovery import build\n",
    "from googleapiclient.errors import HttpError\n",
    "\n",
    "\n",
    "def get_values(spreadsheet_id, range_name):\n",
    "  \"\"\"\n",
    "  Creates the batch_update the user has access to.\n",
    "  Load pre-authorized user credentials from the environment.\n",
    "  TODO(developer) - See https://developers.google.com/identity\n",
    "  for guides on implementing OAuth2 for the application.\n",
    "  \"\"\"\n",
    "  creds = Credentials.from_authorized_user_file(\"token.json\", SCOPES)\n",
    "  # pylint: disable=maybe-no-member\n",
    "  try:\n",
    "    service = build(\"sheets\", \"v4\", credentials=creds)\n",
    "\n",
    "    result = (\n",
    "        service.spreadsheets()\n",
    "        .values()\n",
    "        .get(spreadsheetId=spreadsheet_id, range=range_name)\n",
    "        .execute()\n",
    "    )\n",
    "    rows = result.get(\"values\", [])\n",
    "    print(f\"{len(rows)} rows retrieved\")\n",
    "    return result\n",
    "  except HttpError as error:\n",
    "    print(f\"An error occurred: {error}\")\n",
    "    return error\n",
    "\n",
    "\n",
    "get_values(\"17iY9se5JE4MQlCjVR1CGucOQsRZRjBlWEOnSDYSk1hw\", \"A1:C2\")"
   ]
  },
  {
   "cell_type": "code",
   "execution_count": null,
   "metadata": {},
   "outputs": [],
   "source": [
    "import google.auth\n",
    "from googleapiclient.discovery import build\n",
    "from googleapiclient.errors import HttpError\n",
    "\n",
    "SCOPES = [\"https://www.googleapis.com/auth/drive.file\"]\n",
    "\n",
    "\n",
    "# create spreadsheet\n",
    "def create(title):\n",
    "  \"\"\"\n",
    "  Creates the Sheet the user has access to.\n",
    "  Load pre-authorized user credentials from the environment.\n",
    "  TODO(developer) - See https://developers.google.com/identity\n",
    "  for guides on implementing OAuth2 for the application.\n",
    "  \"\"\"\n",
    "  creds = Credentials.from_authorized_user_file(\"token.json\", SCOPES)\n",
    "  # pylint: disable=maybe-no-member\n",
    "  try:\n",
    "    service = build(\"sheets\", \"v4\", credentials=creds)\n",
    "    spreadsheet = {\"properties\": {\"title\": title}}\n",
    "    spreadsheet = (\n",
    "        service.spreadsheets()\n",
    "        .create(body=spreadsheet, fields=\"spreadsheetId\")\n",
    "        .execute()\n",
    "    )\n",
    "    print(f\"Spreadsheet ID: {(spreadsheet.get('spreadsheetId'))}\")\n",
    "    return spreadsheet.get(\"spreadsheetId\")\n",
    "  except HttpError as error:\n",
    "    print(f\"An error occurred: {error}\")\n",
    "    return error\n",
    "\n",
    "\n",
    "if __name__ == \"__main__\":\n",
    "  # Pass: title\n",
    "  create(\"mysheet1\")"
   ]
  },
  {
   "cell_type": "code",
   "execution_count": null,
   "metadata": {},
   "outputs": [],
   "source": [
    "\n",
    "\n",
    "\n",
    "# The ID and range of a sample spreadsheet.\n",
    "SAMPLE_SPREADSHEET_ID = \"1BxiMVs0XRA5nFMdKvBdBZjgmUUqptlbs74OgvE2upms\"\n",
    "SAMPLE_RANGE_NAME = \"Class Data!A2:E\"\n",
    "\n",
    "\n",
    "def main():\n",
    "  \"\"\"Shows basic usage of the Sheets API.\n",
    "  Prints values from a sample spreadsheet.\n",
    "  \"\"\"\n",
    "  creds = None\n",
    "  # The file token.json stores the user's access and refresh tokens, and is\n",
    "  # created automatically when the authorization flow completes for the first\n",
    "  # time.\n",
    "  if os.path.exists(\"token.json\"):\n",
    "    creds = Credentials.from_authorized_user_file(\"token.json\", SCOPES)\n",
    "  # If there are no (valid) credentials available, let the user log in.\n",
    "  if not creds or not creds.valid:\n",
    "    if creds and creds.expired and creds.refresh_token:\n",
    "      creds.refresh(Request())\n",
    "    else:\n",
    "      flow = InstalledAppFlow.from_client_secrets_file(\n",
    "          \"client_secret.json\", SCOPES\n",
    "      )\n",
    "      creds = flow.run_local_server(port=0)\n",
    "    # Save the credentials for the next run\n",
    "    with open(\"token.json\", \"w\") as token:\n",
    "      token.write(creds.to_json())\n",
    "\n",
    "  try:\n",
    "    service = build(\"sheets\", \"v4\", credentials=creds)\n",
    "\n",
    "    # Call the Sheets API\n",
    "    sheet = service.spreadsheets()\n",
    "    result = (\n",
    "        sheet.values()\n",
    "        .get(spreadsheetId=SAMPLE_SPREADSHEET_ID, range=SAMPLE_RANGE_NAME)\n",
    "        .execute()\n",
    "    )\n",
    "    values = result.get(\"values\", [])\n",
    "\n",
    "    if not values:\n",
    "      print(\"No data found.\")\n",
    "      return\n",
    "\n",
    "    print(\"Name, Major:\")\n",
    "    for row in values:\n",
    "      # Print columns A and E, which correspond to indices 0 and 4.\n",
    "      print(f\"{row[0]}, {row[4]}\")\n",
    "  except HttpError as err:\n",
    "    print(err)\n",
    "\n",
    "\n",
    "if __name__ == \"__main__\":\n",
    "  main()\n"
   ]
  }
 ],
 "metadata": {
  "kernelspec": {
   "display_name": "env",
   "language": "python",
   "name": "python3"
  },
  "language_info": {
   "codemirror_mode": {
    "name": "ipython",
    "version": 3
   },
   "file_extension": ".py",
   "mimetype": "text/x-python",
   "name": "python",
   "nbconvert_exporter": "python",
   "pygments_lexer": "ipython3",
   "version": "3.11.7"
  }
 },
 "nbformat": 4,
 "nbformat_minor": 2
}
